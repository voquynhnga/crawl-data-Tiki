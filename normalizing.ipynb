{
 "cells": [
  {
   "cell_type": "code",
   "execution_count": 57,
   "metadata": {},
   "outputs": [
    {
     "name": "stdout",
     "output_type": "stream",
     "text": [
      "     Index                                        Comment  Similarity_Score\n",
      "224    225                 Hàng chất lượng ! Sản phẩm đẹp          0.122562\n",
      "235    236                       Hàng tốt, chắc chắn. Đẹp          0.121250\n",
      "118    119                        Sản phẩm đẹp, chắc chắn          0.119894\n",
      "258    259                        sản phẩm đẹp, chắc chắn          0.119894\n",
      "268    269                   Sản phẩm nhẹ, đẹp, chắc chắn          0.117037\n",
      "43      44            sản phẩm đẹp, chắc chắn, dễ sử dụng          0.116422\n",
      "13      14                            Sản phẩm tốt và đẹp          0.115819\n",
      "220    221                hàng tốt, chắc chắn, chất lượng          0.115689\n",
      "261    262                 Sản phẩm đẹp, rất tiện sử dụng          0.115106\n",
      "136    137  Chất liệu chắc chắn rất tốt và dùng tiện dụng          0.114572\n"
     ]
    }
   ],
   "source": [
    "import pandas as pd\n",
    "from sklearn.feature_extraction.text import TfidfVectorizer\n",
    "\n",
    "df = pd.read_csv(\"data/cleaned/reviews_4.csv\")\n",
    "\n",
    "reviews = df[\"Comment\"].astype(str).tolist()  \n",
    "vectorizer = TfidfVectorizer()\n",
    "X = vectorizer.fit_transform(reviews)\n",
    "\n",
    "similarity_matrix = (X * X.T).toarray()\n",
    "avg_similarity = similarity_matrix.mean(axis=1)\n",
    "\n",
    "df[\"Similarity_Score\"] = avg_similarity\n",
    "\n",
    "df_filtered = df[\n",
    "    (df[\"Similarity_Score\"] <= 0.2) &     # Xóa đánh giá ảo \n",
    "    ~df[\"Comment\"].str.lower().duplicated(keep=\"first\") &  # Xóa trùng lặp\n",
    "    (df[\"Comment\"].str.strip().str.len() > 1)   # Xóa đánh giá chỉ có 1 ký tự và rỗng\n",
    "]\n",
    "\n",
    "print(df[[\"Index\", \"Comment\", \"Similarity_Score\"]].sort_values(\"Similarity_Score\", ascending=False).head(10))\n",
    "\n",
    "\n",
    "df_filtered = df_filtered.drop(columns=[\"Similarity_Score\"])\n",
    "\n",
    "# ĐẶT LẠI INDEX MỚI (BẮT ĐẦU TỪ 1)\n",
    "df_filtered = df_filtered.reset_index(drop=True)\n",
    "df_filtered[\"Index\"] = range(1, len(df_filtered) + 1)\n",
    "\n",
    "# Xuất file mới\n",
    "df_filtered.to_csv(\"data/cleaned/reviews_4.csv\", index=False)\n",
    "\n",
    "\n"
   ]
  },
  {
   "cell_type": "code",
   "execution_count": 62,
   "metadata": {},
   "outputs": [],
   "source": [
    "#Xóa các kí tự đặc biệt, icon\n",
    "import pandas as pd\n",
    "import re\n",
    "\n",
    "df = pd.read_csv(\"data/cleaned/reviews_0.csv\")\n",
    "\n",
    "def clean_text(text):\n",
    "    text = text.strip() \n",
    "    text = re.sub(r'[^\\w\\s.,!?;:\"\\'()-]', '', text)  \n",
    "    return text\n",
    "\n",
    "df[\"Comment\"] = df[\"Comment\"].apply(clean_text)\n",
    "\n",
    "df.to_csv(\"data/cleaned/reviews_0.csv\", index=False)\n"
   ]
  }
 ],
 "metadata": {
  "kernelspec": {
   "display_name": "Python 3",
   "language": "python",
   "name": "python3"
  },
  "language_info": {
   "codemirror_mode": {
    "name": "ipython",
    "version": 3
   },
   "file_extension": ".py",
   "mimetype": "text/x-python",
   "name": "python",
   "nbconvert_exporter": "python",
   "pygments_lexer": "ipython3",
   "version": "3.13.1"
  }
 },
 "nbformat": 4,
 "nbformat_minor": 2
}
